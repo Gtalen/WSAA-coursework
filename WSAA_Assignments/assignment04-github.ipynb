{
 "cells": [
  {
   "cell_type": "code",
   "execution_count": 14,
   "id": "2dd4c432",
   "metadata": {},
   "outputs": [],
   "source": [
    "# import dependencies\n",
    "from github import Github\n",
    "import requests \n",
    "import json \n",
    "import re\n",
    "from config import apikeys as cfg\n",
    "\n",
    "apikey = cfg[\"githubkeyab\"] # import the api key from the config file\n",
    "\n",
    "g = Github(apikey)\n",
    "\n",
    "ab_repo = g.get_repo(\"Gtalen/wsaa-course-material-2024\")\n",
    "\n",
    "\n"
   ]
  },
  {
   "cell_type": "code",
   "execution_count": 15,
   "id": "3b521030",
   "metadata": {},
   "outputs": [
    {
     "name": "stdout",
     "output_type": "stream",
     "text": [
      ".gitignore\n",
      "README.md\n",
      "code\n",
      "labs\n",
      "slides\n"
     ]
    }
   ],
   "source": [
    "contents = ab_repo.get_contents(\"\") # get the contents of the repo\n",
    "\n",
    "# print the contents of the repo\n",
    "for content in contents:\n",
    "    print(content.path) # print the path of each file in the repo\n",
    "\n",
    "    "
   ]
  },
  {
   "cell_type": "code",
   "execution_count": null,
   "id": "701dc3d2",
   "metadata": {},
   "outputs": [],
   "source": []
  },
  {
   "cell_type": "code",
   "execution_count": 16,
   "id": "0f66f169",
   "metadata": {},
   "outputs": [
    {
     "name": "stdout",
     "output_type": "stream",
     "text": [
      "200\n"
     ]
    }
   ],
   "source": [
    "# import dependencies\n",
    "import requests \n",
    "import json \n",
    "import re\n",
    "from config import apikeys as cfg\n",
    "\n",
    "apikey = cfg[\"githubkeyab\"] # import the api key from the config file\n",
    "\n",
    "url = \"https://api.github.com/repos/Gtalen/wsaa-course-material-2024\"\n",
    "\n",
    "#url = \"https://api.github.com/users/andrewbeattycourseware/repos?perpage=100\"\n",
    "\n",
    "response = requests.get(url, auth = (\"token\", apikey)) \n",
    "print (response.status_code) #check if response is succesful\n",
    "\n",
    "ab_response = response.json() #convert the response to json format\n",
    "# print (ab_response) #print response \n",
    "\n",
    "# Save the response to a file and open as ex\n",
    "with open (\"ab_fork.json\", \"w\") as ab:  # open file in write mode\n",
    " json.dump(ab_response, ab, indent=4)  # save the JSON data to the file"
   ]
  },
  {
   "cell_type": "code",
   "execution_count": 17,
   "id": "d5a79adb",
   "metadata": {},
   "outputs": [],
   "source": [
    "# converting to a string \n",
    "\n",
    "# Convert JSON to string and replace \"Andrew\" with \"Ebele\"\n",
    "ab_to_str = json.dumps(ab_response) # convert the JSON data to a string\n",
    "#ab_update = re.sub(r\"andrew\", \"ebele\", ab_to_str, flags=re.IGNORECASE) # replace \"andrew\" with \"ebele\" using regex\n",
    "ab_update = ab_to_str.replace(\"andrew\", \"ebele\") # replace \"andrew\" with \"ebele\""
   ]
  },
  {
   "cell_type": "code",
   "execution_count": 18,
   "id": "dbdfc79d",
   "metadata": {},
   "outputs": [],
   "source": [
    "with open(\"ab_fork.json\", \"w\") as ab:\n",
    "    ab.write(ab_to_str)  # write the original JSON data to the file\n",
    "    ab.write(ab_update)  # write the updated JSON data to the file"
   ]
  },
  {
   "cell_type": "code",
   "execution_count": null,
   "id": "35bb85b2",
   "metadata": {},
   "outputs": [],
   "source": []
  },
  {
   "cell_type": "code",
   "execution_count": null,
   "id": "813693c4",
   "metadata": {},
   "outputs": [],
   "source": []
  },
  {
   "cell_type": "code",
   "execution_count": null,
   "id": "bec7dd2c",
   "metadata": {},
   "outputs": [],
   "source": []
  },
  {
   "cell_type": "code",
   "execution_count": null,
   "id": "1360f69e",
   "metadata": {},
   "outputs": [],
   "source": []
  }
 ],
 "metadata": {
  "kernelspec": {
   "display_name": "Python 3",
   "language": "python",
   "name": "python3"
  },
  "language_info": {
   "codemirror_mode": {
    "name": "ipython",
    "version": 3
   },
   "file_extension": ".py",
   "mimetype": "text/x-python",
   "name": "python",
   "nbconvert_exporter": "python",
   "pygments_lexer": "ipython3",
   "version": "3.11.5"
  }
 },
 "nbformat": 4,
 "nbformat_minor": 5
}
