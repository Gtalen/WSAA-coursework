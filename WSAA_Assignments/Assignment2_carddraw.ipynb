{
 "cells": [
  {
   "cell_type": "markdown",
   "metadata": {},
   "source": [
    "## Assignment 2 Question\n",
    "look at the the page\n",
    "\n",
    "Deck of Cards API    https://deckofcardsapi.com/\n",
    "\n",
    "This is an API that simulates dealing a deck of cards\n",
    "\n",
    "Write a program that \"deals\" (prints out) 5 cards\n",
    "\n",
    "first you need to shuffle\n",
    "\n",
    "https://deckofcardsapi.com/api/deck/new/shuffle/?deck_count=1\n",
    "\n",
    "get the deck_id, \n",
    "\n",
    "with the deck_id you can get the cards\n",
    "\n",
    "https://deckofcardsapi.com/api/deck/<<deck_id>>/draw/?count=2\n",
    "\n",
    "This example gets two cards\n",
    "\n",
    "From there you need to print the value and the suit of each card.\n",
    "\n",
    "save the file as assignment2-carddraw.py (or as a notebook)\n",
    "\n",
    "Last few marks:\n",
    "Check if the user has drawn a pair, triple, straight, or all of the same suit and congratulate the user."
   ]
  },
  {
   "cell_type": "markdown",
   "metadata": {},
   "source": [
    "## Solution"
   ]
  },
  {
   "cell_type": "code",
   "execution_count": 81,
   "metadata": {},
   "outputs": [],
   "source": [
    "# Import dependencies\n",
    "\n",
    "import requests\n",
    "import json"
   ]
  },
  {
   "cell_type": "code",
   "execution_count": 82,
   "metadata": {},
   "outputs": [
    {
     "name": "stdout",
     "output_type": "stream",
     "text": [
      "{'success': True, 'deck_id': 'ffpr76tc6cpa', 'remaining': 52, 'shuffled': True}\n"
     ]
    }
   ],
   "source": [
    "# Create and shuffle a new deck of card\n",
    "deck_shuffle_url = \"https://deckofcardsapi.com/api/deck/new/shuffle/?deck_count=1\"\n",
    "response = requests.get(deck_shuffle_url)\n",
    "deck_response = response.json()\n",
    "print (deck_response)"
   ]
  },
  {
   "cell_type": "code",
   "execution_count": 83,
   "metadata": {},
   "outputs": [
    {
     "name": "stdout",
     "output_type": "stream",
     "text": [
      "ffpr76tc6cpa\n"
     ]
    }
   ],
   "source": [
    "# get the deck id from the response \n",
    "deck_id = deck_response[\"deck_id\"]\n",
    "print (deck_id)"
   ]
  },
  {
   "cell_type": "code",
   "execution_count": 84,
   "metadata": {},
   "outputs": [],
   "source": [
    "# Draw 5 cards with from the deck with the deck id\n",
    "draw_card_url = f\"https://deckofcardsapi.com/api/deck/{deck_id}/draw/?count=5\"\n",
    "response = requests.get(draw_card_url)\n",
    "draw_response = response.json()[\"cards\"]\n",
    "\n"
   ]
  },
  {
   "cell_type": "code",
   "execution_count": 85,
   "metadata": {},
   "outputs": [],
   "source": [
    "# Save the drawn card response to a file a\n",
    "with open (\"deckresponse.json\", \"w\") as dr:\n",
    "    json.dump(draw_response, dr, indent=4)"
   ]
  },
  {
   "cell_type": "code",
   "execution_count": 86,
   "metadata": {},
   "outputs": [
    {
     "name": "stdout",
     "output_type": "stream",
     "text": [
      "JACK is CLUBS\n",
      "5 is DIAMONDS\n",
      "7 is DIAMONDS\n",
      "5 is SPADES\n",
      "5 is HEARTS\n"
     ]
    }
   ],
   "source": [
    "# printing the drawn cards by looping through the response\n",
    "for card in draw_response:\n",
    "    print(f\"{card['value']} is {card['suit']}\")\n"
   ]
  }
 ],
 "metadata": {
  "kernelspec": {
   "display_name": "Python 3",
   "language": "python",
   "name": "python3"
  },
  "language_info": {
   "codemirror_mode": {
    "name": "ipython",
    "version": 3
   },
   "file_extension": ".py",
   "mimetype": "text/x-python",
   "name": "python",
   "nbconvert_exporter": "python",
   "pygments_lexer": "ipython3",
   "version": "3.11.5"
  }
 },
 "nbformat": 4,
 "nbformat_minor": 2
}
