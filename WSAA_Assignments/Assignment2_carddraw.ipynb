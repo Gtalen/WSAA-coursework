{
 "cells": [
  {
   "cell_type": "markdown",
   "metadata": {},
   "source": [
    "## Assignment\n",
    "look at the the page\n",
    "\n",
    "Deck of Cards API    https://deckofcardsapi.com/\n",
    "\n",
    "This is an API that simulates dealing a deck of cards\n",
    "\n",
    "Write a program that \"deals\" (prints out) 5 cards\n",
    "\n",
    "first you need to shuffle\n",
    "\n",
    "https://deckofcardsapi.com/api/deck/new/shuffle/?deck_count=1\n",
    "\n",
    "get the deck_id, \n",
    "\n",
    "with the deck_id you can get the cards\n",
    "\n",
    "https://deckofcardsapi.com/api/deck/<<deck_id>>/draw/?count=2\n",
    "\n",
    "This example gets two cards\n",
    "\n",
    "From there you need to print the value and the suit of each card.\n",
    "\n",
    "save the file as assignment2-carddraw.py (or as a notebook)\n",
    "\n",
    "Last few marks:\n",
    "Check if the user has drawn a pair, triple, straight, or all of the same suit and congratulate the user."
   ]
  },
  {
   "cell_type": "code",
   "execution_count": 53,
   "metadata": {},
   "outputs": [],
   "source": [
    "# Import dependencies\n",
    "\n",
    "import requests\n",
    "import json"
   ]
  },
  {
   "cell_type": "code",
   "execution_count": 54,
   "metadata": {},
   "outputs": [
    {
     "name": "stdout",
     "output_type": "stream",
     "text": [
      "{'success': True, 'deck_id': 'y2lwi73lxqve', 'remaining': 52, 'shuffled': True}\n"
     ]
    }
   ],
   "source": [
    "deck_shuffle_url = \"https://deckofcardsapi.com/api/deck/new/shuffle/?deck_count=1\"\n",
    "response = requests.get(deck_shuffle_url)\n",
    "deck_response = response.json()\n",
    "print (deck_response)"
   ]
  },
  {
   "cell_type": "code",
   "execution_count": 55,
   "metadata": {},
   "outputs": [],
   "source": [
    "# Save the deck response to a file and open as dc\n",
    "with open (\"deckresponse.json\", \"w\") as dc:\n",
    " json.dump(deck_response, dc)"
   ]
  },
  {
   "cell_type": "code",
   "execution_count": 56,
   "metadata": {},
   "outputs": [
    {
     "name": "stdout",
     "output_type": "stream",
     "text": [
      "y2lwi73lxqve\n"
     ]
    }
   ],
   "source": [
    "deck_id = deck_response[\"deck_id\"]\n",
    "print (deck_id)"
   ]
  },
  {
   "cell_type": "code",
   "execution_count": 57,
   "metadata": {},
   "outputs": [
    {
     "name": "stdout",
     "output_type": "stream",
     "text": [
      "{'success': True, 'deck_id': 'y2lwi73lxqve', 'cards': [{'code': 'AS', 'image': 'https://deckofcardsapi.com/static/img/AS.png', 'images': {'svg': 'https://deckofcardsapi.com/static/img/AS.svg', 'png': 'https://deckofcardsapi.com/static/img/AS.png'}, 'value': 'ACE', 'suit': 'SPADES'}, {'code': '8H', 'image': 'https://deckofcardsapi.com/static/img/8H.png', 'images': {'svg': 'https://deckofcardsapi.com/static/img/8H.svg', 'png': 'https://deckofcardsapi.com/static/img/8H.png'}, 'value': '8', 'suit': 'HEARTS'}, {'code': '7S', 'image': 'https://deckofcardsapi.com/static/img/7S.png', 'images': {'svg': 'https://deckofcardsapi.com/static/img/7S.svg', 'png': 'https://deckofcardsapi.com/static/img/7S.png'}, 'value': '7', 'suit': 'SPADES'}, {'code': 'QD', 'image': 'https://deckofcardsapi.com/static/img/QD.png', 'images': {'svg': 'https://deckofcardsapi.com/static/img/QD.svg', 'png': 'https://deckofcardsapi.com/static/img/QD.png'}, 'value': 'QUEEN', 'suit': 'DIAMONDS'}, {'code': '6D', 'image': 'https://deckofcardsapi.com/static/img/6D.png', 'images': {'svg': 'https://deckofcardsapi.com/static/img/6D.svg', 'png': 'https://deckofcardsapi.com/static/img/6D.png'}, 'value': '6', 'suit': 'DIAMONDS'}], 'remaining': 47}\n"
     ]
    }
   ],
   "source": [
    "# Draw 5 cards with deck id\n",
    "draw_card_url = f\"https://deckofcardsapi.com/api/deck/{deck_id}/draw/?count=5\"\n",
    "draw_response = requests.get(draw_card_url)\n",
    "print (draw_response.json())\n"
   ]
  },
  {
   "cell_type": "code",
   "execution_count": 58,
   "metadata": {},
   "outputs": [
    {
     "name": "stdout",
     "output_type": "stream",
     "text": [
      "{'success': True, 'deck_id': 'y2lwi73lxqve', 'cards': [{'code': 'AS', 'image': 'https://deckofcardsapi.com/static/img/AS.png', 'images': {'svg': 'https://deckofcardsapi.com/static/img/AS.svg', 'png': 'https://deckofcardsapi.com/static/img/AS.png'}, 'value': 'ACE', 'suit': 'SPADES'}, {'code': '8H', 'image': 'https://deckofcardsapi.com/static/img/8H.png', 'images': {'svg': 'https://deckofcardsapi.com/static/img/8H.svg', 'png': 'https://deckofcardsapi.com/static/img/8H.png'}, 'value': '8', 'suit': 'HEARTS'}, {'code': '7S', 'image': 'https://deckofcardsapi.com/static/img/7S.png', 'images': {'svg': 'https://deckofcardsapi.com/static/img/7S.svg', 'png': 'https://deckofcardsapi.com/static/img/7S.png'}, 'value': '7', 'suit': 'SPADES'}, {'code': 'QD', 'image': 'https://deckofcardsapi.com/static/img/QD.png', 'images': {'svg': 'https://deckofcardsapi.com/static/img/QD.svg', 'png': 'https://deckofcardsapi.com/static/img/QD.png'}, 'value': 'QUEEN', 'suit': 'DIAMONDS'}, {'code': '6D', 'image': 'https://deckofcardsapi.com/static/img/6D.png', 'images': {'svg': 'https://deckofcardsapi.com/static/img/6D.svg', 'png': 'https://deckofcardsapi.com/static/img/6D.png'}, 'value': '6', 'suit': 'DIAMONDS'}], 'remaining': 47}\n"
     ]
    }
   ],
   "source": [
    "# Print all 5 cards\n",
    "drawn_cards = draw_response.json()\n",
    "print (drawn_cards)\n"
   ]
  },
  {
   "cell_type": "code",
   "execution_count": 59,
   "metadata": {},
   "outputs": [],
   "source": [
    "# Save the drawn card to a file and open as drc\n",
    "with open (\"drawncards.json\", \"w\") as drc:\n",
    " json.dump(drawn_cards, drc)"
   ]
  },
  {
   "cell_type": "code",
   "execution_count": 60,
   "metadata": {},
   "outputs": [
    {
     "ename": "TypeError",
     "evalue": "string indices must be integers, not 'str'",
     "output_type": "error",
     "traceback": [
      "\u001b[1;31m---------------------------------------------------------------------------\u001b[0m",
      "\u001b[1;31mTypeError\u001b[0m                                 Traceback (most recent call last)",
      "Cell \u001b[1;32mIn[60], line 2\u001b[0m\n\u001b[0;32m      1\u001b[0m \u001b[38;5;28;01mfor\u001b[39;00m card \u001b[38;5;129;01min\u001b[39;00m cards:\n\u001b[1;32m----> 2\u001b[0m     \u001b[38;5;28mprint\u001b[39m(\u001b[38;5;124mf\u001b[39m\u001b[38;5;124m\"\u001b[39m\u001b[38;5;132;01m{\u001b[39;00mcard[\u001b[38;5;124m'\u001b[39m\u001b[38;5;124mvalue\u001b[39m\u001b[38;5;124m'\u001b[39m]\u001b[38;5;132;01m}\u001b[39;00m\u001b[38;5;124m of \u001b[39m\u001b[38;5;132;01m{\u001b[39;00mcard[\u001b[38;5;124m'\u001b[39m\u001b[38;5;124msuit\u001b[39m\u001b[38;5;124m'\u001b[39m]\u001b[38;5;132;01m}\u001b[39;00m\u001b[38;5;124m\"\u001b[39m)\n",
      "\u001b[1;31mTypeError\u001b[0m: string indices must be integers, not 'str'"
     ]
    }
   ],
   "source": [
    "for card in cards:\n",
    "    print(f\"{card['value']} of {card['suit']}\")\n"
   ]
  }
 ],
 "metadata": {
  "kernelspec": {
   "display_name": "Python 3",
   "language": "python",
   "name": "python3"
  },
  "language_info": {
   "codemirror_mode": {
    "name": "ipython",
    "version": 3
   },
   "file_extension": ".py",
   "mimetype": "text/x-python",
   "name": "python",
   "nbconvert_exporter": "python",
   "pygments_lexer": "ipython3",
   "version": "3.11.5"
  }
 },
 "nbformat": 4,
 "nbformat_minor": 2
}
