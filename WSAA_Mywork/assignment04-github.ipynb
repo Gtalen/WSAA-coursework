{
 "cells": [
  {
   "cell_type": "markdown",
   "id": "a0f829c2",
   "metadata": {},
   "source": [
    "## Assignment 4\n",
    "\n",
    "Write a program in python that will read a file from a repository, \n",
    "\n",
    "The program should then replace all the instances of the text \"Andrew\" with your name. \n",
    "\n",
    "The program should then commit those changes and push the file back to the repository (You will need authorisation to do this).\n",
    "\n",
    "I do not need to see your keys (see lab2)\n",
    "\n",
    "Handup: Push the program as assignment04-github.py to assignments repository.\n",
    "\n",
    "Marks: Marks will be given for the functionality and layout of the code; I do expect minimal comments to indicate you know what the program is doing."
   ]
  },
  {
   "cell_type": "markdown",
   "id": "df6905b8",
   "metadata": {},
   "source": [
    "## Solution \n",
    "I started off by forking the Andrew Beatty's WSAA couseware to my repository. Afteterwards, I generated a finegrained token to be able to access and commit changes back to the repository. The first aspect of this assignment made use of the request module to be able to access the URL of the slides folder and the filepath for the WSAA2.1 XML,JSON and CSV_.pptx  file. Once this was gotten, pygithub was utilizd to obtain the content of the file, replace the text"
   ]
  },
  {
   "cell_type": "code",
   "execution_count": null,
   "id": "86b1111d",
   "metadata": {},
   "outputs": [],
   "source": []
  },
  {
   "cell_type": "code",
   "execution_count": 37,
   "id": "5f1c020b",
   "metadata": {},
   "outputs": [
    {
     "name": "stdout",
     "output_type": "stream",
     "text": [
      "200\n",
      "200\n"
     ]
    }
   ],
   "source": [
    "# import dependencies\n",
    "from github import Github\n",
    "import requests \n",
    "import json \n",
    "import base64\n",
    "from config import apikeys as cfg\n",
    "\n",
    "# Getting the folders in the WSAA course material repository\n",
    "# name of the json file to be created\n",
    "filename = \"wsaa-course-material-2024.json\" \n",
    "\n",
    "# import the api key from the config file\n",
    "apikey = cfg[\"githubkeyab\"] \n",
    "\n",
    " # authenticate with the GitHub API key\n",
    "g = Github(apikey)\n",
    "\n",
    "# Andrew Beatty's forked repository url\n",
    "url = \"https://api.github.com/repos/Gtalen/wsaa-course-material-2024/contents/\"\n",
    "\n",
    "response = requests.get(url, auth = ('token', apikey))\n",
    "\n",
    "print (response.status_code) # check if the request was successful\n",
    "\n",
    "\n",
    "with  open(filename, 'w') as fp:\n",
    "    ab_response = response.json()\n",
    "    json.dump(ab_response, fp, indent=4)\n",
    "\n",
    "# Getting the files in the slides folder of the WSAA course material repository\n",
    "slides_url = \"https://api.github.com/repos/Gtalen/wsaa-course-material-2024/contents/slides?ref=main\"\n",
    "slide_response = requests.get(slides_url, auth = ('token', apikey))\n",
    "print (slide_response.status_code) # check if the request was successful\n",
    "slide_folder = slide_response.json()  \n",
    "\n",
    "with  open(\"slide_wsaa.json\", 'w') as sw:\n",
    "    json.dump(slide_folder, sw, indent=4)"
   ]
  },
  {
   "cell_type": "code",
   "execution_count": 38,
   "id": "a51e4ef2",
   "metadata": {},
   "outputs": [
    {
     "name": "stdout",
     "output_type": "stream",
     "text": [
      "No mention of Andrew found. Nothing to change.\n"
     ]
    }
   ],
   "source": [
    "# getting the forked repository\n",
    "repo = g.get_repo(\"Gtalen/wsaa-course-material-2024\")\n",
    "\n",
    "# Getting a file from the slides folder of the WSAA course material repository\n",
    "filepath = \"slides/WSAA2.1 XML,JSON and CSV_.pptx\" \n",
    "\n",
    "# Get the PowerPoint file from the slides folder\n",
    "file_content = repo.get_contents(filepath)\n",
    "\n",
    "# Decode the file content from base64\n",
    "decoded_content = base64.b64decode(file_content.content).decode(\"utf-8\")\n",
    "\n",
    "# Replace all instances of \"Andrew\" with \"Ebele\"\n",
    "updated_content = decoded_content.replace(\"Andrew\", \"Ebele\")\n",
    "\n",
    "if decoded_content == updated_content:\n",
    "    print(f\"No mention of Andrew found. Nothing to change.\")\n",
    "else:\n",
    "    print (\"Try replacing the name Andrew again\")\n"
   ]
  },
  {
   "cell_type": "code",
   "execution_count": 39,
   "id": "707b4980",
   "metadata": {},
   "outputs": [
    {
     "name": "stdout",
     "output_type": "stream",
     "text": [
      "Andrew successfully replaced with Ebele and changes committed.\n"
     ]
    }
   ],
   "source": [
    "# Commit changes\n",
    "repo.update_file(\n",
    " path=filepath,\n",
    " message=f\"Replaced Andrew with Ebele in {filepath}\",\n",
    " content=updated_content,\n",
    " sha=file_content.sha\n",
    "    )\n",
    "print(f\"Andrew successfully replaced with Ebele and changes committed.\")"
   ]
  }
 ],
 "metadata": {
  "kernelspec": {
   "display_name": "Python 3",
   "language": "python",
   "name": "python3"
  },
  "language_info": {
   "codemirror_mode": {
    "name": "ipython",
    "version": 3
   },
   "file_extension": ".py",
   "mimetype": "text/x-python",
   "name": "python",
   "nbconvert_exporter": "python",
   "pygments_lexer": "ipython3",
   "version": "3.11.5"
  }
 },
 "nbformat": 4,
 "nbformat_minor": 5
}
