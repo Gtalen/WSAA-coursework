{
 "cells": [
  {
   "cell_type": "code",
   "execution_count": null,
   "id": "fb7d7529",
   "metadata": {},
   "outputs": [],
   "source": [
    "#ab_repo = g.get_repo(\"Gtalen/wsaa-course-material-2024\")\n",
    "\n",
    "\n",
    "\n",
    "apikey = cfg[\"githubkeyab\"] # import the api key from the config file\n",
    "\n",
    "url = \"https://api.github.com/repos/Gtalen/wsaa-course-material-2024\"\n",
    "\n",
    "#url = \"https://api.github.com/users/andrewbeattycourseware/repos?perpage=100\"\n",
    "\n",
    "response = requests.get(url, auth = (\"token\", apikey)) \n",
    "print (response.status_code) #check if response is succesful\n",
    "\n",
    "responses = response.text #convert the response to a text file\n",
    "#print (responses) #print response \n",
    "\n",
    "ab_response = responses.replace(\"andrew\", \"ebele\") #replace andrew with ebele in the response\n",
    "\n",
    "# Save the response to a file and open as ab\n",
    "with open (\"ab_response.json\", \"w\") as ab:  # open file in write mode\n",
    "    json.dump(ab_response, ab, indent=4)  # save the JSON data to the file\n",
    "\n",
    "\n",
    "\n"
   ]
  },
  {
   "cell_type": "code",
   "execution_count": null,
   "id": "04df7e75",
   "metadata": {},
   "outputs": [],
   "source": [
    "\n",
    "file_url = file_info.download_url\n",
    "print (file_url) # check if the file url is correct\n",
    "response = requests.get(file_url)\n",
    "\n"
   ]
  },
  {
   "cell_type": "code",
   "execution_count": null,
   "id": "9cad72e7",
   "metadata": {},
   "outputs": [],
   "source": [
    "# Getting the files in the slides folder of the WSAA course material repository\n",
    "slides_url = \"https://api.github.com/repos/Gtalen/wsaa-course-material-2024/contents/slides?ref=main\"\n",
    "slide_response = requests.get(slides_url, auth = ('token', apikey))\n",
    "print (slide_response.status_code) # check if the request was successful\n",
    "slide_folder = slide_response.json()  \n",
    "\n",
    "with  open(\"slide_wsaa.json\", 'w') as sw:\n",
    "    json.dump(slide_folder, sw, indent=4)\n",
    "\n",
    "\n",
    "\n",
    "file_url = \"https://api.github.com/repos/Gtalen/wsaa-course-material-2024/contents/slides/WSAA2.1%20XML,JSON%20and%20CSV_.pptx?ref=main\"\n",
    "file_response = requests.get(file_url, auth = ('token', apikey))\n",
    "print (file_response.status_code) # check if the request was successful\n",
    "file_content = file_response.text"
   ]
  },
  {
   "cell_type": "code",
   "execution_count": null,
   "id": "57449c22",
   "metadata": {},
   "outputs": [],
   "source": [
    "# Replace 'Andrew' with 'Ebele'\n",
    "updated_content =file_content.replace(\"Andrew\", \"Ebele\")\n",
    "print(updated_content)"
   ]
  },
  {
   "cell_type": "code",
   "execution_count": null,
   "id": "d056ec03",
   "metadata": {},
   "outputs": [],
   "source": [
    "# Getting the files in the slides folder of the WSAA course material repository\n",
    "slides_url = \"https://api.github.com/repos/Gtalen/wsaa-course-material-2024/contents/slides?ref=main\"\n",
    "slide_response = requests.get(slides_url, auth = ('token', apikey))\n",
    "print (slide_response.status_code) # check if the request was successful\n",
    "slide_folder = slide_response.json()  \n",
    "\n",
    "with  open(\"slide_wsaa.json\", 'w') as sw:\n",
    "    json.dump(slide_folder, sw, indent=4)\n",
    "\n",
    "\n",
    "\n",
    "file_url = \"https://api.github.com/repos/Gtalen/wsaa-course-material-2024/contents/slides/WSAA2.1%20XML,JSON%20and%20CSV_.pptx?ref=main\"\n",
    "file_response = requests.get(file_url, auth = ('token', apikey))\n",
    "print (file_response.status_code) # check if the request was successful\n",
    "file_folder = file_response.json()\n",
    "with  open(\"file_wsaa.json\", 'w') as fw:\n",
    "    json.dump(file_folder, fw, indent=4)    \n",
    "```"
   ]
  },
  {
   "cell_type": "code",
   "execution_count": null,
   "id": "1fee87fe",
   "metadata": {},
   "outputs": [],
   "source": [
    "# getting the forked repository\n",
    "repo = g.get_repo(\"Gtalen/wsaa-course-material-2024\")\n",
    "\n",
    "# Getting a file from the slides folder of the WSAA course material repository\n",
    "filepath = \"slides/WSAA2.1 XML,JSON and CSV_.pptx\" "
   ]
  },
  {
   "cell_type": "code",
   "execution_count": null,
   "id": "4951ad58",
   "metadata": {},
   "outputs": [],
   "source": [
    "\n",
    "\n",
    "# Step 4: Get the PowerPoint file from the repository\n",
    "file_info = repo.get_contents(filepath)\n",
    "file_url = file_info.download_url\n",
    "response = requests.get(file_url)"
   ]
  },
  {
   "cell_type": "code",
   "execution_count": null,
   "id": "cbd576c8",
   "metadata": {},
   "outputs": [],
   "source": [
    "with  open(filename, 'w') as fp:\n",
    "    ab_response = response.json()\n",
    "    json.dump(ab_response, fp, indent=4)\n",
    "\n",
    "# get the repository object\n",
    "#ab_repo = g.get_repo(\"Gtalen/wsaa-course-material-2024\")\n"
   ]
  },
  {
   "cell_type": "code",
   "execution_count": null,
   "id": "bfd6ee2e",
   "metadata": {},
   "outputs": [],
   "source": [
    "# ok this is not exactly like I asked you to to in the labs\n",
    "import requests\n",
    "import json\n",
    "from config import config as cfg\n",
    "\n",
    "filename = \"repos-private.json\"\n",
    "\n",
    "#url = 'https://api.github.com/repos/andrewbeattycourseware/datarepresentation/contents/code'\n",
    "url = 'https://api.github.com/repos/andrewbeattycourseware/aprivateone'\n",
    "\n",
    "# the more basic way of setting authorization\n",
    "#headers = {'Authorization': 'token ' + apikey}\n",
    "#response = requests.get(url, headers= headers)\n",
    "\n",
    "apikey = cfg[\"githubkey\"]\n",
    "response = requests.get(url, auth = ('token', apikey))\n",
    "\n",
    "\n",
    "\n",
    "print (response.status_code)\n",
    "#print (response.json())\n",
    "\n",
    "with  open(filename, 'w') as fp:\n",
    "    repoJSON = response.json()\n",
    "    json.dump(repoJSON, fp, indent=4)\n"
   ]
  },
  {
   "cell_type": "code",
   "execution_count": null,
   "id": "669b50db",
   "metadata": {},
   "outputs": [],
   "source": [
    "with open(\"ab_fork.json\", \"w\") as ab:\n",
    "    ab.write(ab_to_str)  # write the original JSON data to the file\n",
    "    ab.write(ab_update)  # write the updated JSON data to the file"
   ]
  },
  {
   "cell_type": "code",
   "execution_count": null,
   "id": "d697ebf7",
   "metadata": {},
   "outputs": [],
   "source": [
    "# converting to a string \n",
    "\n",
    "# Convert JSON to string and replace \"Andrew\" with \"Ebele\"\n",
    "ab_to_str = json.dumps(ab_response) # convert the JSON data to a string\n",
    "#ab_update = re.sub(r\"andrew\", \"ebele\", ab_to_str, flags=re.IGNORECASE) # replace \"andrew\" with \"ebele\" using regex\n",
    "ab_update = ab_to_str.replace(\"andrew\", \"ebele\") # replace \"andrew\" with \"ebele\""
   ]
  },
  {
   "cell_type": "code",
   "execution_count": null,
   "id": "4bd77314",
   "metadata": {},
   "outputs": [
    {
     "name": "stdout",
     "output_type": "stream",
     "text": [
      "https://raw.githubusercontent.com/Gtalen/wsaa-course-material-2024/main/slides/WSAA2.1%20XML%2CJSON%20and%20CSV_.pptx\n"
     ]
    }
   ],
   "source": [
    "\n",
    "file_url = file_info.download_url\n",
    "print (file_url) # check if the file url is correct\n",
    "response = requests.get(file_url)\n",
    "\n"
   ]
  },
  {
   "cell_type": "code",
   "execution_count": null,
   "id": "0115f5d2",
   "metadata": {},
   "outputs": [],
   "source": [
    "# Save the content to a file \n",
    "with open (\"ab_content.json\", \"w\") as ab:  # open file in write mode\n",
    " json.dump(slides_contents, ab, indent=4)  # save the JSON data to the file"
   ]
  },
  {
   "cell_type": "code",
   "execution_count": null,
   "id": "1bd78c6b",
   "metadata": {},
   "outputs": [],
   "source": [
    "# List to store path and URL pairs\n",
    "file_info = []\n",
    "\n",
    "# Loop through each file/folder in the root\n",
    "for content in contents:\n",
    "    path = content.path\n",
    "    url = content.download_url  # Can be None for folders\n",
    "    print(f\"Path: {path} | URL: {url}\")\n",
    "\n",
    "\n",
    "# List to store path and URL pairs\n",
    "file_info = []\n",
    "\n",
    "# Loop through each file/folder in the root\n",
    "for content in contents:\n",
    "    path = content.path\n",
    "    url = content.download_url  # Can be None for folders\n",
    "    print(f\"Path: {path} | URL: {url}\")\n"
   ]
  },
  {
   "cell_type": "code",
   "execution_count": null,
   "id": "b4d03bb8",
   "metadata": {},
   "outputs": [],
   "source": [
    "contents = ab_repo.get_contents(\"\") # get the contents of the repo\n",
    "\n",
    "# print the contents of the repo\n",
    "for content in contents:\n",
    "    print(content.path) # print the path of each file in the repo\n",
    "\n",
    "    "
   ]
  },
  {
   "cell_type": "code",
   "execution_count": null,
   "id": "72a0e858",
   "metadata": {},
   "outputs": [],
   "source": [
    "fileInfo = repo.get_contents(\"slides\")\n",
    "urlOfFile = fileInfo.download_url\n",
    "#print (urlOfFile)"
   ]
  },
  {
   "cell_type": "code",
   "execution_count": null,
   "id": "56399017",
   "metadata": {},
   "outputs": [],
   "source": [
    "# import dependencies\n",
    "import requests \n",
    "import json \n",
    "import re\n",
    "from config import apikeys as cfg\n",
    "\n",
    "apikey = cfg[\"githubkeyab\"] # import the api key from the config file\n",
    "\n",
    "url = \"https://api.github.com/repos/Gtalen/wsaa-course-material-2024\"\n",
    "\n",
    "#url = \"https://api.github.com/users/andrewbeattycourseware/repos?perpage=100\"\n",
    "\n",
    "response = requests.get(url, auth = (\"token\", apikey)) \n",
    "print (response.status_code) #check if response is succesful\n",
    "\n",
    "ab_response = response.json() #convert the response to json format\n",
    "# print (ab_response) #print response \n",
    "\n",
    "# Save the response to a file and open as ex\n",
    "with open (\"ab_fork.json\", \"w\") as ab:  # open file in write mode\n",
    " json.dump(ab_response, ab, indent=4)  # save the JSON data to the file"
   ]
  }
 ],
 "metadata": {
  "language_info": {
   "name": "python"
  }
 },
 "nbformat": 4,
 "nbformat_minor": 5
}
