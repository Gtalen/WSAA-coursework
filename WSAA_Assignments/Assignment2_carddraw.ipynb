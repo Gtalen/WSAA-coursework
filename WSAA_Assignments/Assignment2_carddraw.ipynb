{
 "cells": [
  {
   "cell_type": "markdown",
   "metadata": {},
   "source": [
    "## Assignment\n",
    "look at the the page\n",
    "\n",
    "Deck of Cards API    https://deckofcardsapi.com/\n",
    "\n",
    "This is an API that simulates dealing a deck of cards\n",
    "\n",
    "Write a program that \"deals\" (prints out) 5 cards\n",
    "\n",
    "first you need to shuffle\n",
    "\n",
    "https://deckofcardsapi.com/api/deck/new/shuffle/?deck_count=1\n",
    "\n",
    "get the deck_id, \n",
    "\n",
    "with the deck_id you can get the cards\n",
    "\n",
    "https://deckofcardsapi.com/api/deck/<<deck_id>>/draw/?count=2\n",
    "\n",
    "This example gets two cards\n",
    "\n",
    "From there you need to print the value and the suit of each card.\n",
    "\n",
    "save the file as assignment2-carddraw.py (or as a notebook)\n",
    "\n",
    "Last few marks:\n",
    "Check if the user has drawn a pair, triple, straight, or all of the same suit and congratulate the user."
   ]
  },
  {
   "cell_type": "code",
   "execution_count": 21,
   "metadata": {},
   "outputs": [],
   "source": [
    "# Import dependencies\n",
    "\n",
    "import requests\n",
    "import json"
   ]
  },
  {
   "cell_type": "code",
   "execution_count": 22,
   "metadata": {},
   "outputs": [
    {
     "name": "stdout",
     "output_type": "stream",
     "text": [
      "{'success': True, 'deck_id': 'wsf133dif31k', 'remaining': 52, 'shuffled': True}\n"
     ]
    }
   ],
   "source": [
    "deck_shuffle_url = \"https://deckofcardsapi.com/api/deck/new/shuffle/?deck_count=1\"\n",
    "response = requests.get(deck_shuffle_url)\n",
    "deck_response = response.json()\n",
    "print (deck_response)"
   ]
  },
  {
   "cell_type": "code",
   "execution_count": 23,
   "metadata": {},
   "outputs": [],
   "source": [
    "# Save the deck response to a file and open as dc\n",
    "with open (\"deckresponse.json\", \"w\") as dc:\n",
    " json.dump(deck_response, dc)"
   ]
  },
  {
   "cell_type": "code",
   "execution_count": 24,
   "metadata": {},
   "outputs": [
    {
     "name": "stdout",
     "output_type": "stream",
     "text": [
      "wsf133dif31k\n"
     ]
    }
   ],
   "source": [
    "deck_id = deck_response[\"deck_id\"]\n",
    "print (deck_id)"
   ]
  }
 ],
 "metadata": {
  "kernelspec": {
   "display_name": "Python 3",
   "language": "python",
   "name": "python3"
  },
  "language_info": {
   "codemirror_mode": {
    "name": "ipython",
    "version": 3
   },
   "file_extension": ".py",
   "mimetype": "text/x-python",
   "name": "python",
   "nbconvert_exporter": "python",
   "pygments_lexer": "ipython3",
   "version": "3.11.5"
  }
 },
 "nbformat": 4,
 "nbformat_minor": 2
}
