{
 "cells": [
  {
   "cell_type": "markdown",
   "metadata": {},
   "source": [
    "## Assignment\n",
    "look at the the page\n",
    "\n",
    "Deck of Cards API    https://deckofcardsapi.com/\n",
    "\n",
    "This is an API that simulates dealing a deck of cards\n",
    "\n",
    "Write a program that \"deals\" (prints out) 5 cards\n",
    "\n",
    "first you need to shuffle\n",
    "\n",
    "https://deckofcardsapi.com/api/deck/new/shuffle/?deck_count=1\n",
    "\n",
    "get the deck_id, \n",
    "\n",
    "with the deck_id you can get the cards\n",
    "\n",
    "https://deckofcardsapi.com/api/deck/<<deck_id>>/draw/?count=2\n",
    "\n",
    "This example gets two cards\n",
    "\n",
    "From there you need to print the value and the suit of each card.\n",
    "\n",
    "save the file as assignment2-carddraw.py (or as a notebook)\n",
    "\n",
    "Last few marks:\n",
    "Check if the user has drawn a pair, triple, straight, or all of the same suit and congratulate the user."
   ]
  },
  {
   "cell_type": "code",
   "execution_count": null,
   "metadata": {
    "vscode": {
     "languageId": "plaintext"
    }
   },
   "outputs": [],
   "source": []
  }
 ],
 "metadata": {
  "language_info": {
   "name": "python"
  }
 },
 "nbformat": 4,
 "nbformat_minor": 2
}
