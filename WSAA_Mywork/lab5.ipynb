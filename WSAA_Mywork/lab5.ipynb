{
 "cells": [
  {
   "cell_type": "markdown",
   "id": "cdb32147",
   "metadata": {},
   "source": [
    "## Assignment 5\n",
    "\n",
    "Write a program in python that will read a file from a repository, \n",
    "\n",
    "The program should then replace all the instances of the text \"Andrew\" with your name. \n",
    "\n",
    "The program should then commit those changes and push the file back to the repository (You will need authorisation to do this).\n",
    "\n",
    "I do not need to see your keys (see lab2)\n",
    "\n",
    "Handup: Push the program as assignment04-github.py to assignments repository.\n",
    "\n",
    "Marks: Marks will be given for the functionality and layout of the code; I do expect minimal comments to indicate you know what the program is doing.\n",
    "\n"
   ]
  },
  {
   "cell_type": "code",
   "execution_count": null,
   "id": "bf3ae8e8",
   "metadata": {},
   "outputs": [],
   "source": [
    "# import dependencies\n",
    "from github import Github\n",
    "import requests \n",
    "import json \n",
    "import re\n",
    "from config import apikeys as cfg\n",
    "\n",
    "apikey = cfg[\"githubkeyab\"] # import the api key from the config file\n",
    "\n",
    "g = Github(apikey)\n",
    "\n",
    "#ab_repo = g.get_repo(\"Gtalen/wsaa-course-material-2024\")\n",
    "\n",
    "\n",
    "\n",
    "apikey = cfg[\"githubkeyab\"] # import the api key from the config file\n",
    "\n",
    "url = \"https://api.github.com/repos/Gtalen/wsaa-course-material-2024\"\n",
    "\n",
    "#url = \"https://api.github.com/users/andrewbeattycourseware/repos?perpage=100\"\n",
    "\n",
    "response = requests.get(url, auth = (\"token\", apikey)) \n",
    "print (response.status_code) #check if response is succesful\n",
    "\n",
    "responses = response.text #convert the response to json format\n",
    "print (responses) #print response \n",
    "\n",
    "ab_response = responses.replace(\"andrew\", \"ebele\") #replace andrew with ebele in the response\n",
    "\n",
    "# Save the response to a file and open as ab\n",
    "with open (\"ab_response.json\", \"w\") as ab:  # open file in write mode\n",
    " json.dump(ab_response, ab, indent=4)  # save the JSON data to the file\n",
    "\n",
    "\n",
    "\n",
    "\n"
   ]
  },
  {
   "cell_type": "code",
   "execution_count": null,
   "id": "eb21468d",
   "metadata": {},
   "outputs": [],
   "source": [
    " Step 10: Push the updated file back to the repository\n",
    "update_response = repo.update_file(\n",
    "    file_info['path'],  # The file path in the repository\n",
    "    c,  # Commit m\n",
    "    updated_content,  # The updated content of the file\n",
    "    file_sha  # The file SHA to ensure we are updating the correct file version\n",
    ")"
   ]
  },
  {
   "cell_type": "code",
   "execution_count": 53,
   "id": "c2b3ba26",
   "metadata": {},
   "outputs": [
    {
     "name": "stdout",
     "output_type": "stream",
     "text": [
      "200\n",
      "{\"id\":969753092,\"node_id\":\"R_kgDOOc1CBA\",\"name\":\"wsaa-course-material-2024\",\"full_name\":\"Gtalen/wsaa-course-material-2024\",\"private\":false,\"owner\":{\"login\":\"Gtalen\",\"id\":23475343,\"node_id\":\"MDQ6VXNlcjIzNDc1MzQz\",\"avatar_url\":\"https://avatars.githubusercontent.com/u/23475343?v=4\",\"gravatar_id\":\"\",\"url\":\"https://api.github.com/users/Gtalen\",\"html_url\":\"https://github.com/Gtalen\",\"followers_url\":\"https://api.github.com/users/Gtalen/followers\",\"following_url\":\"https://api.github.com/users/Gtalen/following{/other_user}\",\"gists_url\":\"https://api.github.com/users/Gtalen/gists{/gist_id}\",\"starred_url\":\"https://api.github.com/users/Gtalen/starred{/owner}{/repo}\",\"subscriptions_url\":\"https://api.github.com/users/Gtalen/subscriptions\",\"organizations_url\":\"https://api.github.com/users/Gtalen/orgs\",\"repos_url\":\"https://api.github.com/users/Gtalen/repos\",\"events_url\":\"https://api.github.com/users/Gtalen/events{/privacy}\",\"received_events_url\":\"https://api.github.com/users/Gtalen/received_events\",\"type\":\"User\",\"user_view_type\":\"public\",\"site_admin\":false},\"html_url\":\"https://github.com/Gtalen/wsaa-course-material-2024\",\"description\":\"Course material for Web Services and Applications\",\"fork\":true,\"url\":\"https://api.github.com/repos/Gtalen/wsaa-course-material-2024\",\"forks_url\":\"https://api.github.com/repos/Gtalen/wsaa-course-material-2024/forks\",\"keys_url\":\"https://api.github.com/repos/Gtalen/wsaa-course-material-2024/keys{/key_id}\",\"collaborators_url\":\"https://api.github.com/repos/Gtalen/wsaa-course-material-2024/collaborators{/collaborator}\",\"teams_url\":\"https://api.github.com/repos/Gtalen/wsaa-course-material-2024/teams\",\"hooks_url\":\"https://api.github.com/repos/Gtalen/wsaa-course-material-2024/hooks\",\"issue_events_url\":\"https://api.github.com/repos/Gtalen/wsaa-course-material-2024/issues/events{/number}\",\"events_url\":\"https://api.github.com/repos/Gtalen/wsaa-course-material-2024/events\",\"assignees_url\":\"https://api.github.com/repos/Gtalen/wsaa-course-material-2024/assignees{/user}\",\"branches_url\":\"https://api.github.com/repos/Gtalen/wsaa-course-material-2024/branches{/branch}\",\"tags_url\":\"https://api.github.com/repos/Gtalen/wsaa-course-material-2024/tags\",\"blobs_url\":\"https://api.github.com/repos/Gtalen/wsaa-course-material-2024/git/blobs{/sha}\",\"git_tags_url\":\"https://api.github.com/repos/Gtalen/wsaa-course-material-2024/git/tags{/sha}\",\"git_refs_url\":\"https://api.github.com/repos/Gtalen/wsaa-course-material-2024/git/refs{/sha}\",\"trees_url\":\"https://api.github.com/repos/Gtalen/wsaa-course-material-2024/git/trees{/sha}\",\"statuses_url\":\"https://api.github.com/repos/Gtalen/wsaa-course-material-2024/statuses/{sha}\",\"languages_url\":\"https://api.github.com/repos/Gtalen/wsaa-course-material-2024/languages\",\"stargazers_url\":\"https://api.github.com/repos/Gtalen/wsaa-course-material-2024/stargazers\",\"contributors_url\":\"https://api.github.com/repos/Gtalen/wsaa-course-material-2024/contributors\",\"subscribers_url\":\"https://api.github.com/repos/Gtalen/wsaa-course-material-2024/subscribers\",\"subscription_url\":\"https://api.github.com/repos/Gtalen/wsaa-course-material-2024/subscription\",\"commits_url\":\"https://api.github.com/repos/Gtalen/wsaa-course-material-2024/commits{/sha}\",\"git_commits_url\":\"https://api.github.com/repos/Gtalen/wsaa-course-material-2024/git/commits{/sha}\",\"comments_url\":\"https://api.github.com/repos/Gtalen/wsaa-course-material-2024/comments{/number}\",\"issue_comment_url\":\"https://api.github.com/repos/Gtalen/wsaa-course-material-2024/issues/comments{/number}\",\"contents_url\":\"https://api.github.com/repos/Gtalen/wsaa-course-material-2024/contents/{+path}\",\"compare_url\":\"https://api.github.com/repos/Gtalen/wsaa-course-material-2024/compare/{base}...{head}\",\"merges_url\":\"https://api.github.com/repos/Gtalen/wsaa-course-material-2024/merges\",\"archive_url\":\"https://api.github.com/repos/Gtalen/wsaa-course-material-2024/{archive_format}{/ref}\",\"downloads_url\":\"https://api.github.com/repos/Gtalen/wsaa-course-material-2024/downloads\",\"issues_url\":\"https://api.github.com/repos/Gtalen/wsaa-course-material-2024/issues{/number}\",\"pulls_url\":\"https://api.github.com/repos/Gtalen/wsaa-course-material-2024/pulls{/number}\",\"milestones_url\":\"https://api.github.com/repos/Gtalen/wsaa-course-material-2024/milestones{/number}\",\"notifications_url\":\"https://api.github.com/repos/Gtalen/wsaa-course-material-2024/notifications{?since,all,participating}\",\"labels_url\":\"https://api.github.com/repos/Gtalen/wsaa-course-material-2024/labels{/name}\",\"releases_url\":\"https://api.github.com/repos/Gtalen/wsaa-course-material-2024/releases{/id}\",\"deployments_url\":\"https://api.github.com/repos/Gtalen/wsaa-course-material-2024/deployments\",\"created_at\":\"2025-04-20T21:17:30Z\",\"updated_at\":\"2025-04-20T21:17:30Z\",\"pushed_at\":\"2024-03-29T12:23:30Z\",\"git_url\":\"git://github.com/Gtalen/wsaa-course-material-2024.git\",\"ssh_url\":\"git@github.com:Gtalen/wsaa-course-material-2024.git\",\"clone_url\":\"https://github.com/Gtalen/wsaa-course-material-2024.git\",\"svn_url\":\"https://github.com/Gtalen/wsaa-course-material-2024\",\"homepage\":null,\"size\":17765,\"stargazers_count\":0,\"watchers_count\":0,\"language\":null,\"has_issues\":false,\"has_projects\":true,\"has_downloads\":true,\"has_wiki\":true,\"has_pages\":false,\"has_discussions\":false,\"forks_count\":0,\"mirror_url\":null,\"archived\":false,\"disabled\":false,\"open_issues_count\":0,\"license\":null,\"allow_forking\":true,\"is_template\":false,\"web_commit_signoff_required\":false,\"topics\":[],\"visibility\":\"public\",\"forks\":0,\"open_issues\":0,\"watchers\":0,\"default_branch\":\"main\",\"permissions\":{\"admin\":true,\"maintain\":true,\"push\":true,\"triage\":true,\"pull\":true},\"allow_squash_merge\":true,\"allow_merge_commit\":true,\"allow_rebase_merge\":true,\"allow_auto_merge\":false,\"delete_branch_on_merge\":false,\"allow_update_branch\":false,\"use_squash_pr_title_as_default\":false,\"squash_merge_commit_message\":\"COMMIT_MESSAGES\",\"squash_merge_commit_title\":\"COMMIT_OR_PR_TITLE\",\"merge_commit_message\":\"PR_TITLE\",\"merge_commit_title\":\"MERGE_MESSAGE\",\"parent\":{\"id\":746601279,\"node_id\":\"R_kgDOLIA7Pw\",\"name\":\"wsaa-course-material-2024\",\"full_name\":\"andrewbeattycourseware/wsaa-course-material-2024\",\"private\":false,\"owner\":{\"login\":\"andrewbeattycourseware\",\"id\":55791692,\"node_id\":\"MDQ6VXNlcjU1NzkxNjky\",\"avatar_url\":\"https://avatars.githubusercontent.com/u/55791692?v=4\",\"gravatar_id\":\"\",\"url\":\"https://api.github.com/users/andrewbeattycourseware\",\"html_url\":\"https://github.com/andrewbeattycourseware\",\"followers_url\":\"https://api.github.com/users/andrewbeattycourseware/followers\",\"following_url\":\"https://api.github.com/users/andrewbeattycourseware/following{/other_user}\",\"gists_url\":\"https://api.github.com/users/andrewbeattycourseware/gists{/gist_id}\",\"starred_url\":\"https://api.github.com/users/andrewbeattycourseware/starred{/owner}{/repo}\",\"subscriptions_url\":\"https://api.github.com/users/andrewbeattycourseware/subscriptions\",\"organizations_url\":\"https://api.github.com/users/andrewbeattycourseware/orgs\",\"repos_url\":\"https://api.github.com/users/andrewbeattycourseware/repos\",\"events_url\":\"https://api.github.com/users/andrewbeattycourseware/events{/privacy}\",\"received_events_url\":\"https://api.github.com/users/andrewbeattycourseware/received_events\",\"type\":\"User\",\"user_view_type\":\"public\",\"site_admin\":false},\"html_url\":\"https://github.com/andrewbeattycourseware/wsaa-course-material-2024\",\"description\":\"Course material for Web Services and Applications\",\"fork\":false,\"url\":\"https://api.github.com/repos/andrewbeattycourseware/wsaa-course-material-2024\",\"forks_url\":\"https://api.github.com/repos/andrewbeattycourseware/wsaa-course-material-2024/forks\",\"keys_url\":\"https://api.github.com/repos/andrewbeattycourseware/wsaa-course-material-2024/keys{/key_id}\",\"collaborators_url\":\"https://api.github.com/repos/andrewbeattycourseware/wsaa-course-material-2024/collaborators{/collaborator}\",\"teams_url\":\"https://api.github.com/repos/andrewbeattycourseware/wsaa-course-material-2024/teams\",\"hooks_url\":\"https://api.github.com/repos/andrewbeattycourseware/wsaa-course-material-2024/hooks\",\"issue_events_url\":\"https://api.github.com/repos/andrewbeattycourseware/wsaa-course-material-2024/issues/events{/number}\",\"events_url\":\"https://api.github.com/repos/andrewbeattycourseware/wsaa-course-material-2024/events\",\"assignees_url\":\"https://api.github.com/repos/andrewbeattycourseware/wsaa-course-material-2024/assignees{/user}\",\"branches_url\":\"https://api.github.com/repos/andrewbeattycourseware/wsaa-course-material-2024/branches{/branch}\",\"tags_url\":\"https://api.github.com/repos/andrewbeattycourseware/wsaa-course-material-2024/tags\",\"blobs_url\":\"https://api.github.com/repos/andrewbeattycourseware/wsaa-course-material-2024/git/blobs{/sha}\",\"git_tags_url\":\"https://api.github.com/repos/andrewbeattycourseware/wsaa-course-material-2024/git/tags{/sha}\",\"git_refs_url\":\"https://api.github.com/repos/andrewbeattycourseware/wsaa-course-material-2024/git/refs{/sha}\",\"trees_url\":\"https://api.github.com/repos/andrewbeattycourseware/wsaa-course-material-2024/git/trees{/sha}\",\"statuses_url\":\"https://api.github.com/repos/andrewbeattycourseware/wsaa-course-material-2024/statuses/{sha}\",\"languages_url\":\"https://api.github.com/repos/andrewbeattycourseware/wsaa-course-material-2024/languages\",\"stargazers_url\":\"https://api.github.com/repos/andrewbeattycourseware/wsaa-course-material-2024/stargazers\",\"contributors_url\":\"https://api.github.com/repos/andrewbeattycourseware/wsaa-course-material-2024/contributors\",\"subscribers_url\":\"https://api.github.com/repos/andrewbeattycourseware/wsaa-course-material-2024/subscribers\",\"subscription_url\":\"https://api.github.com/repos/andrewbeattycourseware/wsaa-course-material-2024/subscription\",\"commits_url\":\"https://api.github.com/repos/andrewbeattycourseware/wsaa-course-material-2024/commits{/sha}\",\"git_commits_url\":\"https://api.github.com/repos/andrewbeattycourseware/wsaa-course-material-2024/git/commits{/sha}\",\"comments_url\":\"https://api.github.com/repos/andrewbeattycourseware/wsaa-course-material-2024/comments{/number}\",\"issue_comment_url\":\"https://api.github.com/repos/andrewbeattycourseware/wsaa-course-material-2024/issues/comments{/number}\",\"contents_url\":\"https://api.github.com/repos/andrewbeattycourseware/wsaa-course-material-2024/contents/{+path}\",\"compare_url\":\"https://api.github.com/repos/andrewbeattycourseware/wsaa-course-material-2024/compare/{base}...{head}\",\"merges_url\":\"https://api.github.com/repos/andrewbeattycourseware/wsaa-course-material-2024/merges\",\"archive_url\":\"https://api.github.com/repos/andrewbeattycourseware/wsaa-course-material-2024/{archive_format}{/ref}\",\"downloads_url\":\"https://api.github.com/repos/andrewbeattycourseware/wsaa-course-material-2024/downloads\",\"issues_url\":\"https://api.github.com/repos/andrewbeattycourseware/wsaa-course-material-2024/issues{/number}\",\"pulls_url\":\"https://api.github.com/repos/andrewbeattycourseware/wsaa-course-material-2024/pulls{/number}\",\"milestones_url\":\"https://api.github.com/repos/andrewbeattycourseware/wsaa-course-material-2024/milestones{/number}\",\"notifications_url\":\"https://api.github.com/repos/andrewbeattycourseware/wsaa-course-material-2024/notifications{?since,all,participating}\",\"labels_url\":\"https://api.github.com/repos/andrewbeattycourseware/wsaa-course-material-2024/labels{/name}\",\"releases_url\":\"https://api.github.com/repos/andrewbeattycourseware/wsaa-course-material-2024/releases{/id}\",\"deployments_url\":\"https://api.github.com/repos/andrewbeattycourseware/wsaa-course-material-2024/deployments\",\"created_at\":\"2024-01-22T10:36:36Z\",\"updated_at\":\"2025-01-13T14:59:10Z\",\"pushed_at\":\"2024-03-29T12:23:30Z\",\"git_url\":\"git://github.com/andrewbeattycourseware/wsaa-course-material-2024.git\",\"ssh_url\":\"git@github.com:andrewbeattycourseware/wsaa-course-material-2024.git\",\"clone_url\":\"https://github.com/andrewbeattycourseware/wsaa-course-material-2024.git\",\"svn_url\":\"https://github.com/andrewbeattycourseware/wsaa-course-material-2024\",\"homepage\":null,\"size\":17765,\"stargazers_count\":3,\"watchers_count\":3,\"language\":\"Python\",\"has_issues\":true,\"has_projects\":true,\"has_downloads\":true,\"has_wiki\":true,\"has_pages\":false,\"has_discussions\":false,\"forks_count\":1,\"mirror_url\":null,\"archived\":false,\"disabled\":false,\"open_issues_count\":0,\"license\":null,\"allow_forking\":true,\"is_template\":false,\"web_commit_signoff_required\":false,\"topics\":[],\"visibility\":\"public\",\"forks\":1,\"open_issues\":0,\"watchers\":3,\"default_branch\":\"main\"},\"source\":{\"id\":746601279,\"node_id\":\"R_kgDOLIA7Pw\",\"name\":\"wsaa-course-material-2024\",\"full_name\":\"andrewbeattycourseware/wsaa-course-material-2024\",\"private\":false,\"owner\":{\"login\":\"andrewbeattycourseware\",\"id\":55791692,\"node_id\":\"MDQ6VXNlcjU1NzkxNjky\",\"avatar_url\":\"https://avatars.githubusercontent.com/u/55791692?v=4\",\"gravatar_id\":\"\",\"url\":\"https://api.github.com/users/andrewbeattycourseware\",\"html_url\":\"https://github.com/andrewbeattycourseware\",\"followers_url\":\"https://api.github.com/users/andrewbeattycourseware/followers\",\"following_url\":\"https://api.github.com/users/andrewbeattycourseware/following{/other_user}\",\"gists_url\":\"https://api.github.com/users/andrewbeattycourseware/gists{/gist_id}\",\"starred_url\":\"https://api.github.com/users/andrewbeattycourseware/starred{/owner}{/repo}\",\"subscriptions_url\":\"https://api.github.com/users/andrewbeattycourseware/subscriptions\",\"organizations_url\":\"https://api.github.com/users/andrewbeattycourseware/orgs\",\"repos_url\":\"https://api.github.com/users/andrewbeattycourseware/repos\",\"events_url\":\"https://api.github.com/users/andrewbeattycourseware/events{/privacy}\",\"received_events_url\":\"https://api.github.com/users/andrewbeattycourseware/received_events\",\"type\":\"User\",\"user_view_type\":\"public\",\"site_admin\":false},\"html_url\":\"https://github.com/andrewbeattycourseware/wsaa-course-material-2024\",\"description\":\"Course material for Web Services and Applications\",\"fork\":false,\"url\":\"https://api.github.com/repos/andrewbeattycourseware/wsaa-course-material-2024\",\"forks_url\":\"https://api.github.com/repos/andrewbeattycourseware/wsaa-course-material-2024/forks\",\"keys_url\":\"https://api.github.com/repos/andrewbeattycourseware/wsaa-course-material-2024/keys{/key_id}\",\"collaborators_url\":\"https://api.github.com/repos/andrewbeattycourseware/wsaa-course-material-2024/collaborators{/collaborator}\",\"teams_url\":\"https://api.github.com/repos/andrewbeattycourseware/wsaa-course-material-2024/teams\",\"hooks_url\":\"https://api.github.com/repos/andrewbeattycourseware/wsaa-course-material-2024/hooks\",\"issue_events_url\":\"https://api.github.com/repos/andrewbeattycourseware/wsaa-course-material-2024/issues/events{/number}\",\"events_url\":\"https://api.github.com/repos/andrewbeattycourseware/wsaa-course-material-2024/events\",\"assignees_url\":\"https://api.github.com/repos/andrewbeattycourseware/wsaa-course-material-2024/assignees{/user}\",\"branches_url\":\"https://api.github.com/repos/andrewbeattycourseware/wsaa-course-material-2024/branches{/branch}\",\"tags_url\":\"https://api.github.com/repos/andrewbeattycourseware/wsaa-course-material-2024/tags\",\"blobs_url\":\"https://api.github.com/repos/andrewbeattycourseware/wsaa-course-material-2024/git/blobs{/sha}\",\"git_tags_url\":\"https://api.github.com/repos/andrewbeattycourseware/wsaa-course-material-2024/git/tags{/sha}\",\"git_refs_url\":\"https://api.github.com/repos/andrewbeattycourseware/wsaa-course-material-2024/git/refs{/sha}\",\"trees_url\":\"https://api.github.com/repos/andrewbeattycourseware/wsaa-course-material-2024/git/trees{/sha}\",\"statuses_url\":\"https://api.github.com/repos/andrewbeattycourseware/wsaa-course-material-2024/statuses/{sha}\",\"languages_url\":\"https://api.github.com/repos/andrewbeattycourseware/wsaa-course-material-2024/languages\",\"stargazers_url\":\"https://api.github.com/repos/andrewbeattycourseware/wsaa-course-material-2024/stargazers\",\"contributors_url\":\"https://api.github.com/repos/andrewbeattycourseware/wsaa-course-material-2024/contributors\",\"subscribers_url\":\"https://api.github.com/repos/andrewbeattycourseware/wsaa-course-material-2024/subscribers\",\"subscription_url\":\"https://api.github.com/repos/andrewbeattycourseware/wsaa-course-material-2024/subscription\",\"commits_url\":\"https://api.github.com/repos/andrewbeattycourseware/wsaa-course-material-2024/commits{/sha}\",\"git_commits_url\":\"https://api.github.com/repos/andrewbeattycourseware/wsaa-course-material-2024/git/commits{/sha}\",\"comments_url\":\"https://api.github.com/repos/andrewbeattycourseware/wsaa-course-material-2024/comments{/number}\",\"issue_comment_url\":\"https://api.github.com/repos/andrewbeattycourseware/wsaa-course-material-2024/issues/comments{/number}\",\"contents_url\":\"https://api.github.com/repos/andrewbeattycourseware/wsaa-course-material-2024/contents/{+path}\",\"compare_url\":\"https://api.github.com/repos/andrewbeattycourseware/wsaa-course-material-2024/compare/{base}...{head}\",\"merges_url\":\"https://api.github.com/repos/andrewbeattycourseware/wsaa-course-material-2024/merges\",\"archive_url\":\"https://api.github.com/repos/andrewbeattycourseware/wsaa-course-material-2024/{archive_format}{/ref}\",\"downloads_url\":\"https://api.github.com/repos/andrewbeattycourseware/wsaa-course-material-2024/downloads\",\"issues_url\":\"https://api.github.com/repos/andrewbeattycourseware/wsaa-course-material-2024/issues{/number}\",\"pulls_url\":\"https://api.github.com/repos/andrewbeattycourseware/wsaa-course-material-2024/pulls{/number}\",\"milestones_url\":\"https://api.github.com/repos/andrewbeattycourseware/wsaa-course-material-2024/milestones{/number}\",\"notifications_url\":\"https://api.github.com/repos/andrewbeattycourseware/wsaa-course-material-2024/notifications{?since,all,participating}\",\"labels_url\":\"https://api.github.com/repos/andrewbeattycourseware/wsaa-course-material-2024/labels{/name}\",\"releases_url\":\"https://api.github.com/repos/andrewbeattycourseware/wsaa-course-material-2024/releases{/id}\",\"deployments_url\":\"https://api.github.com/repos/andrewbeattycourseware/wsaa-course-material-2024/deployments\",\"created_at\":\"2024-01-22T10:36:36Z\",\"updated_at\":\"2025-01-13T14:59:10Z\",\"pushed_at\":\"2024-03-29T12:23:30Z\",\"git_url\":\"git://github.com/andrewbeattycourseware/wsaa-course-material-2024.git\",\"ssh_url\":\"git@github.com:andrewbeattycourseware/wsaa-course-material-2024.git\",\"clone_url\":\"https://github.com/andrewbeattycourseware/wsaa-course-material-2024.git\",\"svn_url\":\"https://github.com/andrewbeattycourseware/wsaa-course-material-2024\",\"homepage\":null,\"size\":17765,\"stargazers_count\":3,\"watchers_count\":3,\"language\":\"Python\",\"has_issues\":true,\"has_projects\":true,\"has_downloads\":true,\"has_wiki\":true,\"has_pages\":false,\"has_discussions\":false,\"forks_count\":1,\"mirror_url\":null,\"archived\":false,\"disabled\":false,\"open_issues_count\":0,\"license\":null,\"allow_forking\":true,\"is_template\":false,\"web_commit_signoff_required\":false,\"topics\":[],\"visibility\":\"public\",\"forks\":1,\"open_issues\":0,\"watchers\":3,\"default_branch\":\"main\"},\"network_count\":1,\"subscribers_count\":0}\n"
     ]
    }
   ],
   "source": [
    "\n",
    "\n",
    "apikey = cfg[\"githubkeyab\"] # import the api key from the config file\n",
    "\n",
    "url = \"https://api.github.com/repos/Gtalen/wsaa-course-material-2024\"\n",
    "\n",
    "#url = \"https://api.github.com/users/andrewbeattycourseware/repos?perpage=100\"\n",
    "\n",
    "response = requests.get(url, auth = (\"token\", apikey)) \n",
    "print (response.status_code) #check if response is succesful\n",
    "\n",
    "responses = response.text #convert the response to json format\n",
    "print (responses) #print response \n",
    "\n",
    "ab_response = responses.replace(\"andrew\", \"ebele\") #replace andrew with ebele in the response\n",
    "\n",
    "# Save the response to a file and open as ab\n",
    "with open (\"ab_response.json\", \"w\") as ab:  # open file in write mode\n",
    " json.dump(ab_response, ab, indent=4)  # save the JSON data to the file\n",
    "\n"
   ]
  },
  {
   "cell_type": "code",
   "execution_count": 54,
   "id": "201c076e",
   "metadata": {},
   "outputs": [],
   "source": [
    "# Save the response to a file and open as ex\n",
    "with open (\"ab_fork.json\", \"w\") as ab:  # open file in write mode\n",
    " json.dump(ab_response, ab, indent=4)  # save the JSON data to the file"
   ]
  },
  {
   "cell_type": "code",
   "execution_count": 55,
   "id": "a1d70e86",
   "metadata": {},
   "outputs": [
    {
     "name": "stdout",
     "output_type": "stream",
     "text": [
      "200\n"
     ]
    }
   ],
   "source": [
    "# import dependencies\n",
    "import requests \n",
    "import json \n",
    "#from config import config as cfg\n",
    "\n",
    "\n",
    "url = \"https://api.github.com/users/andrewbeattycourseware/repos?perpage=100\"\n",
    "\n",
    "response = requests.get(url) \n",
    "print (response.status_code) #check if response is succesful\n",
    "\n",
    "ab_response = response.json() #convert the response to json format\n",
    "# print (ab_response) #print response \n",
    "\n",
    "# Save the response to a file and open as ex\n",
    "with open (\"ab.json\", \"w\") as ab:  # open file in write mode\n",
    " json.dump(ab_response, ab)  # save the JSON data to the file\n",
    "\n",
    " #ab_response = ab_response.replace(\"Andrew\", \"Ebele\") #replace Andrew with Ebele"
   ]
  },
  {
   "cell_type": "code",
   "execution_count": 56,
   "id": "9d6334c1",
   "metadata": {},
   "outputs": [],
   "source": [
    "# import dependencies\n",
    "import requests \n",
    "import json \n",
    "#from config import config as cfg"
   ]
  },
  {
   "cell_type": "code",
   "execution_count": 57,
   "id": "c322601a",
   "metadata": {},
   "outputs": [],
   "source": [
    "url = \"https://api.github.com/users/andrewbeattycourseware/repos?perpage=100\""
   ]
  },
  {
   "cell_type": "code",
   "execution_count": 58,
   "id": "0fe9521a",
   "metadata": {},
   "outputs": [
    {
     "name": "stdout",
     "output_type": "stream",
     "text": [
      "200\n"
     ]
    }
   ],
   "source": [
    "response = requests.get(url) \n",
    "print (response.status_code) #check if response is succesful"
   ]
  },
  {
   "cell_type": "code",
   "execution_count": 59,
   "id": "14dc0347",
   "metadata": {},
   "outputs": [],
   "source": [
    "ab_response = response.json() #convert the response to json format\n",
    "# print (ab_response) #print response "
   ]
  },
  {
   "cell_type": "code",
   "execution_count": 60,
   "id": "a03e67c9",
   "metadata": {},
   "outputs": [],
   "source": [
    "# Save the response to a file and open as ex\n",
    "with open (\"ab.json\", \"w\") as ab:  # open file in write mode\n",
    " json.dump(ab_response, ab)  # save the JSON data to the file"
   ]
  },
  {
   "cell_type": "code",
   "execution_count": 61,
   "id": "06ba9c4d",
   "metadata": {},
   "outputs": [
    {
     "ename": "SyntaxError",
     "evalue": "invalid syntax (3920934402.py, line 1)",
     "output_type": "error",
     "traceback": [
      "\u001b[1;36m  Cell \u001b[1;32mIn[61], line 1\u001b[1;36m\u001b[0m\n\u001b[1;33m    apikey =\u001b[0m\n\u001b[1;37m             ^\u001b[0m\n\u001b[1;31mSyntaxError\u001b[0m\u001b[1;31m:\u001b[0m invalid syntax\n"
     ]
    }
   ],
   "source": [
    "apikey = "
   ]
  },
  {
   "cell_type": "code",
   "execution_count": null,
   "id": "e42d7f66",
   "metadata": {},
   "outputs": [],
   "source": []
  },
  {
   "cell_type": "code",
   "execution_count": null,
   "id": "b17d86bb",
   "metadata": {},
   "outputs": [],
   "source": []
  },
  {
   "cell_type": "code",
   "execution_count": null,
   "id": "88592292",
   "metadata": {},
   "outputs": [],
   "source": []
  },
  {
   "cell_type": "code",
   "execution_count": null,
   "id": "aa5b807d",
   "metadata": {},
   "outputs": [],
   "source": []
  },
  {
   "cell_type": "code",
   "execution_count": null,
   "id": "6a28e895",
   "metadata": {},
   "outputs": [
    {
     "ename": "AttributeError",
     "evalue": "'list' object has no attribute 'replace'",
     "output_type": "error",
     "traceback": [
      "\u001b[1;31m---------------------------------------------------------------------------\u001b[0m",
      "\u001b[1;31mAttributeError\u001b[0m                            Traceback (most recent call last)",
      "Cell \u001b[1;32mIn[85], line 1\u001b[0m\n\u001b[1;32m----> 1\u001b[0m ab_response \u001b[38;5;241m=\u001b[39m ab_response\u001b[38;5;241m.\u001b[39mreplace(\u001b[38;5;124m\"\u001b[39m\u001b[38;5;124mAndrew\u001b[39m\u001b[38;5;124m\"\u001b[39m, \u001b[38;5;124m\"\u001b[39m\u001b[38;5;124mEbele\u001b[39m\u001b[38;5;124m\"\u001b[39m)\n",
      "\u001b[1;31mAttributeError\u001b[0m: 'list' object has no attribute 'replace'"
     ]
    }
   ],
   "source": [
    "#ab_response = ab_response.replace(\"Andrew\", \"Ebele\") #replace Andrew with Ebele"
   ]
  },
  {
   "cell_type": "code",
   "execution_count": null,
   "id": "f12d376d",
   "metadata": {},
   "outputs": [],
   "source": []
  },
  {
   "cell_type": "code",
   "execution_count": null,
   "id": "402ab8a6",
   "metadata": {},
   "outputs": [],
   "source": [
    "# Define a function to replace text in a file and push changes to a GitHub repository\n",
    "def replace_and_commit(repo_owner, repo_name, file_path, old_text, new_text, commit_message, token):\n",
    "    # GitHub API URL for the file\n",
    "    url = f\"https://api.github.com/repos/{repo_owner}/{repo_name}/contents/{file_path}\"\n",
    "    \n",
    "    # Get the file content\n",
    "    headers = {'Authorization': f'token {token}'}\n",
    "    response = requests.get(url, headers=headers)\n",
    "    if response.status_code == 200:\n",
    "        file_data = response.json()\n",
    "        content = file_data['content']\n",
    "        sha = file_data['sha']\n",
    "        \n",
    "        # Decode the file content\n",
    "        decoded_content = json.loads(content).decode('utf-8')\n",
    "        \n",
    "        # Replace the old text with the new text\n",
    "        updated_content = decoded_content.replace(old_text, new_text)\n",
    "        \n",
    "        # Encode the updated content\n",
    "        encoded_content = json.dumps(updated_content).encode('utf-8')\n",
    "        \n",
    "        # Prepare the payload for the commit\n",
    "        payload = {\n",
    "            'message': commit_message,\n",
    "            'content': encoded_content,\n",
    "            'sha': sha\n",
    "        }\n",
    "        \n",
    "        # Commit the changes\n",
    "        commit_response = requests.put(url, headers=headers, data=json.dumps(payload))\n",
    "        if commit_response.status_code == 200:\n",
    "            print(\"File updated and changes committed successfully.\")\n",
    "        else:\n",
    "            print(\"Failed to commit changes:\", commit_response.json())\n",
    "    else:\n",
    "        print(\"Failed to fetch file:\", response.json())"
   ]
  },
  {
   "cell_type": "code",
   "execution_count": null,
   "id": "d2d4add5",
   "metadata": {},
   "outputs": [
    {
     "ename": "NameError",
     "evalue": "name 'andrew_repos' is not defined",
     "output_type": "error",
     "traceback": [
      "\u001b[1;31m---------------------------------------------------------------------------\u001b[0m",
      "\u001b[1;31mNameError\u001b[0m                                 Traceback (most recent call last)",
      "Cell \u001b[1;32mIn[45], line 1\u001b[0m\n\u001b[1;32m----> 1\u001b[0m filename \u001b[38;5;241m=\u001b[39m andrew_repos\u001b[38;5;241m.\u001b[39mjson\n",
      "\u001b[1;31mNameError\u001b[0m: name 'andrew_repos' is not defined"
     ]
    }
   ],
   "source": [
    "filename = andrew_repos.json\n",
    "#url = \"https://api.github.com/users/USERNAME/repos\""
   ]
  },
  {
   "cell_type": "code",
   "execution_count": null,
   "id": "92366faa",
   "metadata": {},
   "outputs": [],
   "source": []
  },
  {
   "cell_type": "code",
   "execution_count": null,
   "id": "36ab33bd",
   "metadata": {},
   "outputs": [],
   "source": []
  },
  {
   "cell_type": "code",
   "execution_count": null,
   "id": "b065ded5",
   "metadata": {},
   "outputs": [],
   "source": []
  },
  {
   "cell_type": "code",
   "execution_count": null,
   "id": "09f3de5b",
   "metadata": {},
   "outputs": [],
   "source": []
  }
 ],
 "metadata": {
  "kernelspec": {
   "display_name": "Python 3",
   "language": "python",
   "name": "python3"
  },
  "language_info": {
   "codemirror_mode": {
    "name": "ipython",
    "version": 3
   },
   "file_extension": ".py",
   "mimetype": "text/x-python",
   "name": "python",
   "nbconvert_exporter": "python",
   "pygments_lexer": "ipython3",
   "version": "3.11.5"
  }
 },
 "nbformat": 4,
 "nbformat_minor": 5
}
