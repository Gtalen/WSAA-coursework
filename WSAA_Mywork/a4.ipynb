{
 "cells": [
  {
   "cell_type": "code",
   "execution_count": null,
   "id": "94f5df65",
   "metadata": {},
   "outputs": [],
   "source": []
  },
  {
   "cell_type": "code",
   "execution_count": 29,
   "id": "ade0615a",
   "metadata": {},
   "outputs": [
    {
     "name": "stdout",
     "output_type": "stream",
     "text": [
      "https://github.com/Gtalen/Authentication-testin.git\n",
      "https://raw.githubusercontent.com/Gtalen/Authentication-testin/main/ab.txt\n",
      "No changes to commit.\n"
     ]
    }
   ],
   "source": [
    "# import dependencies\n",
    "from github import Github\n",
    "import requests\n",
    "from config import apikeys as cfg\n",
    "\n",
    "# import the api key from the config file\n",
    "apikey = cfg[\"githubkeyab\"] \n",
    "\n",
    " # authenticate with the GitHub API key\n",
    "g = Github(apikey)\n",
    "\n",
    "repo = g.get_repo(\"Gtalen/Authentication-testin\")\n",
    "print (repo.clone_url)\n",
    "\n",
    "file_info = repo.get_contents(\"ab.txt\")\n",
    "urloffile = file_info.download_url\n",
    "print (urloffile)\n",
    "\n",
    "\n",
    "# Replace 'andrew' with 'ebele' \n",
    "file_content = file_info.decoded_content.decode(\"utf-8\")\n",
    "content_update = file_content.replace(\"andrew\", \"ebele\")\n",
    "\n",
    "if file_content != content_update:\n",
    "    repo.update_file(file_info.path, \"Replaced andrew with ebele in ab.txt\", content_update, file_info.sha)\n",
    "    print(\"Update committed.\")\n",
    "else:\n",
    "    print(\"No changes to commit.\")\n",
    "\n",
    "\n",
    "\n",
    "#response = requests.get(urloffile)\n",
    "#file_content = response.text\n",
    "#print (file_content)\n",
    "\n",
    "#file_edit = file_content.replace(\"andrew\", \"ebele\") #replace andrew with ebele in the response\n",
    "#print (file_edit)\n",
    "\n",
    "# update content of the file on github\n",
    "#repo.update_file(file_info.path, \"Replaced andrew with ebele in Ab text file \", content_update, file_info.sha)"
   ]
  },
  {
   "cell_type": "code",
   "execution_count": 30,
   "id": "d33b5fc6",
   "metadata": {},
   "outputs": [
    {
     "name": "stdout",
     "output_type": "stream",
     "text": [
      "https://github.com/Gtalen/Authentication-testin.git\n",
      "https://raw.githubusercontent.com/Gtalen/Authentication-testin/main/ab.txt\n",
      "No changes to commit.\n"
     ]
    }
   ],
   "source": [
    "# import dependencies\n",
    "from github import Github\n",
    "import requests\n",
    "from config import apikeys as cfg\n",
    "\n",
    "# import the api key from the config file\n",
    "apikey = cfg[\"githubkeyab\"] \n",
    "\n",
    " #authenticate with the GitHub API key\n",
    "g = Github(apikey)\n",
    "\n",
    "repo = g.get_repo(\"Gtalen/Authentication-testin\")\n",
    "print (repo.clone_url)\n",
    "\n",
    "file_info = repo.get_contents(\"ab.txt\")\n",
    "urloffile = file_info.download_url\n",
    "print (urloffile)\n",
    "\n",
    "\n",
    "response = requests.get(urloffile)\n",
    "file_content = response.text\n",
    "#print (file_content)\n",
    "\n",
    "content_update = file_content.replace(\"andrew\", \"ebele\") #replace andrew with ebele in the response\n",
    "#print (file_edit)\n",
    "\n",
    "# update content of the file on github\n",
    "repo.update_file(file_info.path, \"Replaced andrew with ebele in Ab text file \", content_update, file_info.sha)\n",
    "\n",
    "if file_content != content_update:\n",
    "    print(\"Update committed.\")\n",
    "else:\n",
    "    print(\"No changes to commit.\")"
   ]
  },
  {
   "cell_type": "code",
   "execution_count": 31,
   "id": "6d60ca79",
   "metadata": {},
   "outputs": [],
   "source": [
    "# import dependencies\n",
    "from github import Github\n",
    "import requests\n",
    "from config import apikeys as cfg"
   ]
  },
  {
   "cell_type": "code",
   "execution_count": 32,
   "id": "94a8034d",
   "metadata": {},
   "outputs": [],
   "source": [
    "# import the api key from the config file\n",
    "apikey = cfg[\"githubkeyab\"] \n",
    "\n",
    " # authenticate with the GitHub API key\n",
    "g = Github(apikey)\n"
   ]
  },
  {
   "cell_type": "code",
   "execution_count": 33,
   "id": "01affca2",
   "metadata": {},
   "outputs": [
    {
     "name": "stdout",
     "output_type": "stream",
     "text": [
      "https://github.com/Gtalen/Authentication-testin.git\n"
     ]
    }
   ],
   "source": [
    "repo = g.get_repo(\"Gtalen/Authentication-testin\")\n",
    "print (repo.clone_url)"
   ]
  },
  {
   "cell_type": "code",
   "execution_count": 34,
   "id": "628b5248",
   "metadata": {},
   "outputs": [
    {
     "name": "stdout",
     "output_type": "stream",
     "text": [
      "https://raw.githubusercontent.com/Gtalen/Authentication-testin/main/ab.txt\n"
     ]
    }
   ],
   "source": [
    "file_info = repo.get_contents(\"ab.txt\")\n",
    "urloffile = file_info.download_url\n",
    "print (urloffile)"
   ]
  },
  {
   "cell_type": "code",
   "execution_count": 35,
   "id": "d44ffab6",
   "metadata": {},
   "outputs": [],
   "source": [
    "response = requests.get(urloffile)\n",
    "file_content = response.text\n",
    "#print (file_content)"
   ]
  },
  {
   "cell_type": "code",
   "execution_count": 36,
   "id": "dd5c88a6",
   "metadata": {},
   "outputs": [],
   "source": [
    "file_edit = file_content.replace(\"andrew\", \"ebele\") #replace andrew with ebele in the response\n",
    "#print (file_edit)"
   ]
  },
  {
   "cell_type": "code",
   "execution_count": 37,
   "id": "151cace8",
   "metadata": {},
   "outputs": [
    {
     "data": {
      "text/plain": [
       "{'commit': Commit(sha=\"b0715010882e23699420e49446ee76eaf57ff4a5\"),\n",
       " 'content': ContentFile(path=\"ab.txt\")}"
      ]
     },
     "execution_count": 37,
     "metadata": {},
     "output_type": "execute_result"
    }
   ],
   "source": [
    "# update content of the file on github\n",
    "repo.update_file(file_info.path, \"Replaced andrew with ebele in Ab text file \", file_edit, file_info.sha)"
   ]
  }
 ],
 "metadata": {
  "kernelspec": {
   "display_name": "Python 3",
   "language": "python",
   "name": "python3"
  },
  "language_info": {
   "codemirror_mode": {
    "name": "ipython",
    "version": 3
   },
   "file_extension": ".py",
   "mimetype": "text/x-python",
   "name": "python",
   "nbconvert_exporter": "python",
   "pygments_lexer": "ipython3",
   "version": "3.11.5"
  }
 },
 "nbformat": 4,
 "nbformat_minor": 5
}
