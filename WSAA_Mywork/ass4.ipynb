{
 "cells": [
  {
   "cell_type": "code",
   "execution_count": 3,
   "id": "9dcd68a7",
   "metadata": {},
   "outputs": [
    {
     "name": "stdout",
     "output_type": "stream",
     "text": [
      "✅ File updated successfully!\n"
     ]
    }
   ],
   "source": [
    "from github import Github\n",
    "import requests\n",
    "from config import apikeys as cfg\n",
    "\n",
    "# 1. Authenticate using GitHub API key (Personal Access Token)\n",
    "apikey = cfg[\"githubkeyab\"]  # Get API key from config\n",
    "g = Github(apikey)\n",
    "\n",
    "# 2. Get the repository object\n",
    "repo = g.get_repo(\"Gtalen/wsaa-course-material-2024\")  # Change this to your own fork or repo if needed\n",
    "\n",
    "# 3. Define the file path within the repo\n",
    "file_path = \"slides/WSAA2.1 XML,JSON and CSV_.pptx\"  # Change this to your file path\n",
    "commit_message = \"Replaced 'Andrew' with 'Ebele' in the PowerPoint file\"  # Commit message\n",
    "\n",
    "# 4. Get the contents of the file from the repo\n",
    "file = repo.get_contents(file_path)\n",
    "\n",
    "# 5. Get the raw content (not metadata)\n",
    "file_content = requests.get(file.download_url).text\n",
    "\n",
    "# 6. Replace all occurrences of \"Andrew\" with \"Ebele\"\n",
    "updated_content = file_content.replace(\"Andrew\", \"Ebele\")\n",
    "\n",
    "# 7. Commit the changes back to the repo\n",
    "try:\n",
    "    # Try to update the file\n",
    "    repo.update_file(file.path, commit_message, updated_content, file.sha)\n",
    "    print(\"✅ File updated successfully!\")\n",
    "except:\n",
    "    # If the file doesn't exist yet, create a new one\n",
    "    repo.create_file(file.path, commit_message, updated_content)\n",
    "    print(\"✅ File created and committed successfully!\")\n"
   ]
  },
  {
   "cell_type": "code",
   "execution_count": 4,
   "id": "b5404eb0",
   "metadata": {},
   "outputs": [
    {
     "ename": "AttributeError",
     "evalue": "'list' object has no attribute 'json'",
     "output_type": "error",
     "traceback": [
      "\u001b[1;31m---------------------------------------------------------------------------\u001b[0m",
      "\u001b[1;31mAttributeError\u001b[0m                            Traceback (most recent call last)",
      "Cell \u001b[1;32mIn[4], line 14\u001b[0m\n\u001b[0;32m     12\u001b[0m \u001b[38;5;66;03m# Step 3: Get contents of the 'slides' folder\u001b[39;00m\n\u001b[0;32m     13\u001b[0m slides_repo \u001b[38;5;241m=\u001b[39m repo\u001b[38;5;241m.\u001b[39mget_contents(\u001b[38;5;124m\"\u001b[39m\u001b[38;5;124mslides\u001b[39m\u001b[38;5;124m\"\u001b[39m)\n\u001b[1;32m---> 14\u001b[0m slide_folder \u001b[38;5;241m=\u001b[39m slides_repo\u001b[38;5;241m.\u001b[39mjson()  \n\u001b[0;32m     16\u001b[0m \u001b[38;5;28;01mwith\u001b[39;00m  \u001b[38;5;28mopen\u001b[39m(\u001b[38;5;124m\"\u001b[39m\u001b[38;5;124mslide_wsaa.json\u001b[39m\u001b[38;5;124m\"\u001b[39m, \u001b[38;5;124m'\u001b[39m\u001b[38;5;124mw\u001b[39m\u001b[38;5;124m'\u001b[39m) \u001b[38;5;28;01mas\u001b[39;00m sw:\n\u001b[0;32m     17\u001b[0m     json\u001b[38;5;241m.\u001b[39mdump(slide_folder, sw, indent\u001b[38;5;241m=\u001b[39m\u001b[38;5;241m4\u001b[39m)\n",
      "\u001b[1;31mAttributeError\u001b[0m: 'list' object has no attribute 'json'"
     ]
    }
   ],
   "source": [
    "from github import Github\n",
    "import json\n",
    "from config import apikeys as cfg\n",
    "\n",
    "# Step 1: Authenticate using apikey\n",
    "apikey = cfg[\"githubkeyab\"]\n",
    "g = Github(apikey)\n",
    "\n",
    "# Step 2: Get the repository object\n",
    "repo = g.get_repo(\"Gtalen/wsaa-course-material-2024\")\n",
    "\n",
    "# Step 3: Get contents of the 'slides' folder\n",
    "slides_repo = repo.get_contents(\"slides\")\n",
    "slide_folder = slides_repo.json()  \n",
    "\n",
    "with  open(\"slide_wsaa.json\", 'w') as sw:\n",
    "    json.dump(slide_folder, sw, indent=4)\n",
    "\n",
    "\n"
   ]
  },
  {
   "cell_type": "code",
   "execution_count": null,
   "id": "caeeba3e",
   "metadata": {},
   "outputs": [],
   "source": [
    "# Optional: Save metadata to JSON file for review\n",
    "slides_metadata = []\n",
    "for item in slides_folder:\n",
    "    slides_metadata.append({\n",
    "        \"name\": item.name,\n",
    "        \"path\": item.path,\n",
    "        \"download_url\": item.download_url,\n",
    "        \"type\": item.type,\n",
    "        \"size\": item.size\n",
    "    })\n",
    "\n",
    "# Save metadata to a file\n",
    "with open(\"slide_wsaa.json\", \"w\") as f:\n",
    "    json.dump(slides_metadata, f, indent=4)\n",
    "\n",
    "# Step 4: Get a specific file if you need it\n",
    "file_path = \"slides/WSAA2.1 XML,JSON and CSV_.pptx\"\n",
    "pptx_file = repo.get_contents(file_path)\n",
    "\n",
    "print(\"✅ File found:\", pptx_file.name)\n",
    "print(\"📁 Path:\", pptx_file.path)\n",
    "print(\"🔗 Download URL:\", pptx_file.download_url)"
   ]
  },
  {
   "cell_type": "code",
   "execution_count": null,
   "id": "62dd6e41",
   "metadata": {},
   "outputs": [],
   "source": []
  }
 ],
 "metadata": {
  "kernelspec": {
   "display_name": "Python 3",
   "language": "python",
   "name": "python3"
  },
  "language_info": {
   "codemirror_mode": {
    "name": "ipython",
    "version": 3
   },
   "file_extension": ".py",
   "mimetype": "text/x-python",
   "name": "python",
   "nbconvert_exporter": "python",
   "pygments_lexer": "ipython3",
   "version": "3.11.5"
  }
 },
 "nbformat": 4,
 "nbformat_minor": 5
}
