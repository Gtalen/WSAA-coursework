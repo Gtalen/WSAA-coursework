{
 "cells": [
  {
   "cell_type": "markdown",
   "id": "44e8f6d2",
   "metadata": {},
   "source": [
    "# Project Title: Investment Portfolio Manager\n",
    "## Author: Ebelechukwu Igwagu"
   ]
  },
  {
   "cell_type": "code",
   "execution_count": null,
   "id": "5f37c373",
   "metadata": {},
   "outputs": [],
   "source": []
  },
  {
   "cell_type": "markdown",
   "id": "51bd6fe4",
   "metadata": {},
   "source": [
    "## INTRODUCTION: "
   ]
  },
  {
   "cell_type": "markdown",
   "id": "41282df8",
   "metadata": {},
   "source": [
    "| Step | What to Do                                       | Status             |\n",
    "|------|--------------------------------------------------|--------------------|\n",
    "| 1    | Design schema and create SQL database            | ✅ Completed        |\n",
    "| 2    | Write DAO (CRUD logic) using PyMySQL or SQLAlchemy | 🔄 In Progress      |\n",
    "| 3    | Set up Flask server and connect routes to DAO    | ⏳ Upcoming         |\n",
    "| 4    | Build frontend with HTML + AJAX                  | ⏳ Upcoming         |\n",
    "| 5    | Final polish, testing, documentation             | ⏳ Final Phase      |\n"
   ]
  },
  {
   "cell_type": "markdown",
   "id": "04a2dd47",
   "metadata": {},
   "source": [
    "\n",
    "\n",
    "## Database Schema - 3 Tables\n",
    "\n",
    "The database design follows best practices and principles outlined in [(Kumaresh, 2024)](https://medium.com/@saikumaresh/a-comprehensive-guide-to-schema-design-in-sql-principles-best-practices-and-a-practical-use-case-d10f87777cef) and [Microsoft Database Design Basics](https://support.microsoft.com/en-us/office/database-design-basics-eb2159cf-1e30-401a-8084-bd4f9c9ca1f5).\n",
    "\n",
    "---\n",
    "\n",
    "### 1. Users Table\n",
    "**Purpose**: Stores information about users.  \n",
    "**Relationships**:\n",
    "- One-to-many with the **Stocks** table\n",
    "- One-to-many with the **Transactions** table\n",
    "\n",
    "**Fields**:\n",
    "- `UserID` (Primary Key, INT, Auto-increment)\n",
    "- `Fullname` (VARCHAR, Unique)\n",
    "- `Username` (VARCHAR, Unique)\n",
    "- `Email` (VARCHAR, Unique)\n",
    "- `PasswordHash` (VARCHAR)\n",
    "- `DOB` (Date)\n",
    "- `CreatedAt` (DATETIME)\n",
    "\n",
    "---\n",
    "\n",
    "### 2. Stocks Table\n",
    "**Purpose**: Stores stock symbols and associated user ownership.  \n",
    "**Relationships**:\n",
    "- Many-to-one with the **Users** table\n",
    "- One-to-many with the **Transactions** table\n",
    "\n",
    "\n",
    "\n",
    "**Fields**:\n",
    "- `StockID` (Primary Key, INT, Auto-increment)\n",
    "- `Symbol` (VARCHAR)\n",
    "- `ShortName` (VARCHAR)\n",
    "- `CompanyName` (VARCHAR)\n",
    "\n",
    "---\n",
    "\n",
    "### 3. Transactions Table\n",
    "**Purpose**: Tracks all buy/sell transactions of stocks.  \n",
    "**Relationships**:\n",
    "- Many-to-one with the **Users** table\n",
    "- Many-to-one with the **Stocks** table\n",
    "\n",
    "**Fields**:\n",
    "- `TransactionID` (Primary Key, INT, Auto-increment)\n",
    "- `UserID` (Foreign Key → Users.UserID)\n",
    "- `StockID` (Foreign Key → Stocks.StockID)\n",
    "- `TransactionType` (ENUM: 'BUY', 'SELL')\n",
    "- `Quantity` (INT)\n",
    "- `PricePerShare` (DECIMAL)\n",
    "- `TransactionDate` (DATETIME)\n",
    "\n",
    "---\n",
    "\n",
    "\n",
    "### ERD Summary\n",
    "- **Users (1) → (∞) Stocks**\n",
    "- **Users (1) → (∞) Transactions**\n",
    "- **Stocks (1) → (∞) Transactions**\n"
   ]
  },
  {
   "cell_type": "code",
   "execution_count": null,
   "id": "d84cbf10",
   "metadata": {},
   "outputs": [],
   "source": [
    "# Create database investment_portfolio_db"
   ]
  },
  {
   "cell_type": "code",
   "execution_count": null,
   "id": "b68142c4",
   "metadata": {},
   "outputs": [],
   "source": []
  },
  {
   "cell_type": "code",
   "execution_count": null,
   "id": "789c8ca2",
   "metadata": {},
   "outputs": [],
   "source": []
  },
  {
   "cell_type": "code",
   "execution_count": null,
   "id": "15f8a6c1",
   "metadata": {},
   "outputs": [],
   "source": [
    "## Dependencies\n",
    "- Requests\n",
    "- JSON\n",
    "- pymysql\n",
    "- Time\n",
    "- faker\n",
    "\n"
   ]
  },
  {
   "cell_type": "markdown",
   "id": "c0af8717",
   "metadata": {},
   "source": [
    "## References \n",
    "- DataCamp. (n.d.). Creating Synthetic Data with Python and Faker. [online] Available at: https://www.datacamp.com/tutorial/creating-synthetic-data-with-python-faker-tutorial [Accessed 18 May 2025].\n",
    "- Faker (2025). https://pypi.org/project/Faker/. Using the Faker Class \n",
    "- Faker 37.3.0 documentation (no date). https://faker.readthedocs.io/en/master/fakerclass.html.\n",
    "- Yahoo Finance Screeners (18.05.2025). https://finance.yahoo.com/research-hub/screener/.\n",
    "- Database design basics - Microsoft Support (no date). https://support.microsoft.com/en-us/office/database-design-basics-eb2159cf-1e30-401a-8084-bd4f9c9ca1f5.\n",
    "- Kumaresh, S. (2024) 'A Comprehensive Guide to Schema Design in SQL: Principles, Best Practices, and a Practical Use Case with Netflix,' Medium, 19 November. https://medium.com/@saikumaresh/a-comprehensive-guide-to-schema-design-in-sql-principles-best-practices-and-a-practical-use-case-d10f87777cef.\n",
    "- Amos, D. (2024) Object-Oriented Programming (OOP) in Python. https://realpython.com/python3-object-oriented-programming/.\n",
    "- Looka (n.d.) Logo created using Looka logo generator. Available at: https://looka.com (Accessed: 24 May 2025).\n",
    "\n",
    "\n"
   ]
  }
 ],
 "metadata": {
  "kernelspec": {
   "display_name": "Python 3",
   "language": "python",
   "name": "python3"
  },
  "language_info": {
   "name": "python",
   "version": "3.11.5"
  }
 },
 "nbformat": 4,
 "nbformat_minor": 5
}
