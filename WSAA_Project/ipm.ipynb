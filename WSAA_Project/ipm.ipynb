{
 "cells": [
  {
   "cell_type": "markdown",
   "id": "44e8f6d2",
   "metadata": {},
   "source": [
    "# Project Title: Investment Portfolio Manager\n",
    "## Author: Ebelechukwu Igwagu"
   ]
  },
  {
   "cell_type": "markdown",
   "id": "51bd6fe4",
   "metadata": {},
   "source": [
    "## INTRODUCTION: "
   ]
  },
  {
   "cell_type": "markdown",
   "id": "04a2dd47",
   "metadata": {},
   "source": [
    "## Database Schema - 2 Tables\n",
    "\n",
    "1. Users Table - One to many r/ship with the stock table and transactions table\n",
    "a. User ID \n",
    "\n",
    "\n",
    "2. Stocks Table. Many to one relationship with the \n",
    "\n",
    "\n",
    "3. Transactions Table"
   ]
  }
 ],
 "metadata": {
  "language_info": {
   "name": "python"
  }
 },
 "nbformat": 4,
 "nbformat_minor": 5
}
